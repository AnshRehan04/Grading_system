{
 "cells": [
  {
   "cell_type": "code",
   "execution_count": null,
   "id": "e759c33a",
   "metadata": {},
   "outputs": [],
   "source": [
    "marks=int(input(\"Enter your Marks :\"))\n",
    "if marks<25:\n",
    "    print(\"Your Grade is F\")\n",
    "elif marks>=25 and marks<=45:\n",
    "    print(\"Your Grade is E\")\n",
    "elif marks>=45 and marks<=50:\n",
    "    print(\"Your Grade is D\")\n",
    "elif marks>=50 and marks<=55:\n",
    "    print(\"Your Grade is C \")\n",
    "elif marks>=55 and marks<=60:\n",
    "    print(\"Your Grade is B \")\n",
    "else:\n",
    "    print(\"good\")"
   ]
  }
 ],
 "metadata": {
  "kernelspec": {
   "display_name": "Python 3 (ipykernel)",
   "language": "python",
   "name": "python3"
  },
  "language_info": {
   "codemirror_mode": {
    "name": "ipython",
    "version": 3
   },
   "file_extension": ".py",
   "mimetype": "text/x-python",
   "name": "python",
   "nbconvert_exporter": "python",
   "pygments_lexer": "ipython3",
   "version": "3.9.12"
  }
 },
 "nbformat": 4,
 "nbformat_minor": 5
}
